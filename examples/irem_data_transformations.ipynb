{
 "cells": [
  {
   "cell_type": "markdown",
   "metadata": {},
   "source": [
    "# IREM data transformations\n",
    "\n",
    "This notebook demonstrates how to download and transform raw IREM data into a formats suitable for further analysis (DataFrame, HDF5, CSV)."
   ]
  },
  {
   "cell_type": "markdown",
   "metadata": {},
   "source": [
    "## Prerequisites"
   ]
  },
  {
   "cell_type": "markdown",
   "metadata": {
    "vscode": {
     "languageId": "plaintext"
    }
   },
   "source": [
    "### Downloading IREM data (optional)\n",
    "\n",
    "In this section, we will guide you through the process of downloading IREM data (if you haven't downloaded it already).\n",
    "\n",
    "- This cell supports Linux-based operating systems, for other OSes you can download the data manually.\n",
    "- We will use the `wget` command to fetch the data from the official [IREM data repository](http://srem.psi.ch/datarepo/V0/irem/).\n",
    "- The data will be organized into directories for original raw data, and extracted CDF data. You can modify the `DATA_DIR` variable to change the location of the data.\n",
    "- Additionally, we will ensure that existing files are not downloaded again to save time and bandwidth.\n",
    "- Running this cell the first time can take a while, grab a coffee."
   ]
  },
  {
   "cell_type": "code",
   "execution_count": 25,
   "metadata": {},
   "outputs": [],
   "source": [
    "%%sh\n",
    "# Data directory to store the data\n",
    "DATA_DIR=\"../data/irem\"\n",
    "\n",
    "# Creating data directories\n",
    "mkdir -p ${DATA_DIR}\n",
    "mkdir -p ${DATA_DIR}/extracted\n",
    "mkdir -p ${DATA_DIR}/hdf5\n",
    "mkdir -p ${DATA_DIR}/csv\n",
    "# Create a symlink to the raw directory\n",
    "DATA_RAW_DIR=${DATA_DIR}/raw\n",
    "if [ ! -L \"$DATA_RAW_DIR\" ]; then\n",
    "    ABS_DATA_RAW_DIR=$(readlink -f ${DATA_RAW_DIR})\n",
    "    ABS_DATA_DIR=$(readlink -f ${DATA_DIR})\n",
    "    ln -s ${ABS_DATA_DIR}/srem.psi.ch/datarepo/V0/irem ${ABS_DATA_RAW_DIR}\n",
    "fi\n",
    "\n",
    "# Get data recursively\n",
    "wget \\\n",
    "    --timestamping \\\n",
    "    --recursive \\\n",
    "    --no-parent \\\n",
    "    --no-verbose \\\n",
    "    -A gz \\\n",
    "    http://srem.psi.ch/datarepo/V0/irem/ \\\n",
    "    -P ${DATA_DIR} \\\n",
    "    2> ${DATA_DIR}/wget.log # Redirect wget output to a log file to avoid cluttering the notebook\n",
    "\n",
    "# Remove summary plots dir which we don't care about\n",
    "rm -rf ${DATA_DIR}/irem/raw/summaryplots"
   ]
  },
  {
   "cell_type": "markdown",
   "metadata": {},
   "source": [
    "### Initializing the notebook"
   ]
  },
  {
   "cell_type": "code",
   "execution_count": 2,
   "metadata": {},
   "outputs": [],
   "source": [
    "import radem\n",
    "import os\n",
    "from pathlib import Path\n",
    "import gzip\n",
    "from datetime import date\n",
    "\n",
    "DATA_DIR = Path(\"../data/irem\")\n",
    "DATA_RAW_DIR = DATA_DIR / \"raw\"\n",
    "DATA_EXTRACTED_DIR = DATA_DIR / \"extracted\"\n",
    "DATA_HDF5_DIR = DATA_DIR / \"hdf5\"\n",
    "DATA_CSV_DIR = DATA_DIR / \"csv\""
   ]
  },
  {
   "cell_type": "markdown",
   "metadata": {},
   "source": [
    "### Extracting IREM data archives (optional)"
   ]
  },
  {
   "cell_type": "code",
   "execution_count": null,
   "metadata": {},
   "outputs": [],
   "source": [
    "def extract_and_process_files(data_raw_dir: Path, data_extracted_dir: Path) -> None:\n",
    "    # Get sorted list of .cdf.gz files\n",
    "    data_raw_filenames = sorted(\n",
    "        data_raw_dir / dirname / filename\n",
    "        for dirname in os.listdir(data_raw_dir)\n",
    "        for filename in os.listdir(data_raw_dir / dirname)\n",
    "        if filename.endswith(\".cdf.gz\")\n",
    "    )\n",
    "    \n",
    "    # Process each file\n",
    "    for filename in data_raw_filenames:\n",
    "        output_filename = data_extracted_dir / filename.stem\n",
    "        print(f\"Extracting {filename} to {output_filename}\")\n",
    "        if output_filename.exists():\n",
    "            print(f\"Overriding {filename} - already exists.\")\n",
    "        \n",
    "        # Extract the file\n",
    "        with open(filename, 'rb') as f_in, gzip.open(f_in) as f_decompressed, open(output_filename, 'wb') as f_out:\n",
    "            f_out.write(f_decompressed.read())\n",
    "            \n",
    "\n",
    "extract_and_process_files(DATA_RAW_DIR, DATA_EXTRACTED_DIR)"
   ]
  },
  {
   "cell_type": "markdown",
   "metadata": {},
   "source": [
    "## Data transformations"
   ]
  },
  {
   "cell_type": "markdown",
   "metadata": {},
   "source": [
    "### Reading CDFs (option 1)"
   ]
  },
  {
   "cell_type": "code",
   "execution_count": null,
   "metadata": {},
   "outputs": [],
   "source": [
    "cdfs = radem.handlers.read_irem_cdfs(DATA_EXTRACTED_DIR)\n",
    "\n",
    "print(len(cdfs))"
   ]
  },
  {
   "cell_type": "markdown",
   "metadata": {},
   "source": [
    "### Reading CDFs (option 2)"
   ]
  },
  {
   "cell_type": "code",
   "execution_count": null,
   "metadata": {},
   "outputs": [],
   "source": [
    "paths = radem.handlers.get_irem_cdf_paths(\n",
    "    DATA_EXTRACTED_DIR,\n",
    "    from_date=date(2011, 11, 11),\n",
    "    to_date=date(2012, 12, 12))\n",
    "\n",
    "cdfs = radem.handlers.read_irem_cdfs(paths)\n",
    "\n",
    "print(len(cdfs))"
   ]
  },
  {
   "cell_type": "markdown",
   "metadata": {},
   "source": [
    "### Reading CDFs (option 3)"
   ]
  },
  {
   "cell_type": "code",
   "execution_count": null,
   "metadata": {},
   "outputs": [],
   "source": [
    "cdfs = radem.handlers.read_irem_cdfs(\n",
    "    DATA_EXTRACTED_DIR,\n",
    "    from_date=date(2011, 11, 11),\n",
    "    to_date=date(2012, 12, 12))\n",
    "\n",
    "print(len(cdfs))"
   ]
  },
  {
   "cell_type": "markdown",
   "metadata": {},
   "source": [
    "### Exploring CDF (optional)\n"
   ]
  },
  {
   "cell_type": "code",
   "execution_count": null,
   "metadata": {},
   "outputs": [],
   "source": [
    "def print_cdf_report(cdf):\n",
    "    print(f'Keys:')\n",
    "    print(cdf)\n",
    "\n",
    "    print(f'\\nCDF meta:')\n",
    "    print(cdf.meta)\n",
    "    for key, val in cdf.items(): \n",
    "        print(f'\\n{key} -> {val}')\n",
    "        print(val.meta)\n",
    "\n",
    "print_cdf_report(cdfs[-10])"
   ]
  },
  {
   "cell_type": "markdown",
   "metadata": {},
   "source": [
    "### Fix and convert for further analysis\n",
    "\n",
    "> 💡 This step merges, removes duplicates, sorts, and converts the data to a pandas DataFrame which simplifies further analysis and eliminates low-level issues with CDF files.\n"
   ]
  },
  {
   "cell_type": "code",
   "execution_count": null,
   "metadata": {},
   "outputs": [],
   "source": [
    "df = radem.handlers.convert_irem_cdfs_to_df(cdfs)\n",
    "\n",
    "print(df)"
   ]
  },
  {
   "cell_type": "markdown",
   "metadata": {},
   "source": [
    "### Writing to HDF5"
   ]
  },
  {
   "cell_type": "code",
   "execution_count": 8,
   "metadata": {},
   "outputs": [],
   "source": [
    "radem.handlers.write_hdf(df, DATA_HDF5_DIR / \"example.hdf5\")"
   ]
  },
  {
   "cell_type": "markdown",
   "metadata": {},
   "source": [
    "### Reading from HDF5"
   ]
  },
  {
   "cell_type": "code",
   "execution_count": null,
   "metadata": {},
   "outputs": [],
   "source": [
    "df_hdf = radem.handlers.read_hdf(DATA_HDF5_DIR / \"example.hdf5\")\n",
    "\n",
    "print(all(df_hdf == df))"
   ]
  },
  {
   "cell_type": "markdown",
   "metadata": {},
   "source": [
    "### Writing to CSV (not recommended)\n",
    "\n",
    "> ⚠️ CSV files are not efficient for storing large datasets, use HDF5 format.\n",
    "\n",
    "> ⚠️ Tiny floating point errors may occur when writing / reading to CSV e.g. `1.4143094841930115` vs `1.4143094841930117`. If it matters to you, use HDF5 format."
   ]
  },
  {
   "cell_type": "code",
   "execution_count": 10,
   "metadata": {},
   "outputs": [],
   "source": [
    "radem.handlers.write_csv(df, DATA_CSV_DIR / \"example.csv\")"
   ]
  },
  {
   "cell_type": "markdown",
   "metadata": {},
   "source": [
    "### Reading from CSV (not recommended)"
   ]
  },
  {
   "cell_type": "code",
   "execution_count": 11,
   "metadata": {},
   "outputs": [],
   "source": [
    "df_csv = radem.handlers.read_csv(DATA_CSV_DIR / \"example.csv\")"
   ]
  }
 ],
 "metadata": {
  "kernelspec": {
   "display_name": "venv",
   "language": "python",
   "name": "python3"
  },
  "language_info": {
   "codemirror_mode": {
    "name": "ipython",
    "version": 3
   },
   "file_extension": ".py",
   "mimetype": "text/x-python",
   "name": "python",
   "nbconvert_exporter": "python",
   "pygments_lexer": "ipython3",
   "version": "3.13.0"
  }
 },
 "nbformat": 4,
 "nbformat_minor": 2
}
