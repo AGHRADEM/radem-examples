{
 "cells": [
  {
   "cell_type": "markdown",
   "metadata": {},
   "source": [
    "# Spacecraft trajectories\n",
    "\n",
    "This notebook shows how to calculate the trajectory of the JUICE and INTEGRAL spacecraft around the Sun, Earth, Mars and Jupiter. \n",
    "\n",
    "It uses the `planetary_coverage` package to build the tour configurations and calculate the trajectories. You can find more information about the project in the [documentation](https://planetary-coverage.readthedocs.io/en/latest/)."
   ]
  },
  {
   "cell_type": "markdown",
   "metadata": {},
   "source": [
    "## Prerequisites"
   ]
  },
  {
   "cell_type": "markdown",
   "metadata": {},
   "source": [
    "### Install the required packages (optional)\n",
    "\n",
    "Before running the code cells below, make sure to install the required packages."
   ]
  },
  {
   "cell_type": "code",
   "execution_count": null,
   "metadata": {},
   "outputs": [],
   "source": [
    "!pip install planetary-coverage\n",
    "!pip install pandas\n",
    "!pip install matplotlib\n",
    "!pip install tables"
   ]
  },
  {
   "cell_type": "markdown",
   "metadata": {},
   "source": [
    "### Import the required packages"
   ]
  },
  {
   "cell_type": "code",
   "execution_count": 6,
   "metadata": {},
   "outputs": [],
   "source": [
    "import pandas as pd\n",
    "import matplotlib.pyplot as plt\n",
    "import matplotlib.dates as mdates\n",
    "\n",
    "from planetary_coverage import TourConfig\n",
    "from datetime import datetime, timedelta"
   ]
  },
  {
   "cell_type": "markdown",
   "metadata": {},
   "source": [
    "### Helper functions"
   ]
  },
  {
   "cell_type": "code",
   "execution_count": 7,
   "metadata": {},
   "outputs": [],
   "source": [
    "def km_to_au(km: float) -> float:\n",
    "    \"\"\"Convert kilometers to astronomical units.\n",
    "    \"\"\"\n",
    "    return km * 6.68459e-9"
   ]
  },
  {
   "cell_type": "markdown",
   "metadata": {},
   "source": [
    "## JUICE trajectory calculations\n",
    "\n",
    "In this section we will calculate the trajectory of the JUICE spacecraft around the Sun, Earth, Mars and Jupiter and plot the results.\n",
    "\n",
    "> ℹ️ The first execution of *Calculating* code cell will download the SPICE kernels to `RADEM_KERNELS_DIR` directory if they are not present. This may take a while and is only done once."
   ]
  },
  {
   "cell_type": "code",
   "execution_count": 8,
   "metadata": {},
   "outputs": [],
   "source": [
    "JUICE_KERNELS_DIR = '../data/spice' # Directory to download kernels to\n",
    "JUICE_KERNELS_MK = '5.1 150lb_23_1' # Kernel set to use\n",
    "JUICE_KERNELS_VERSION = 'v451' # Kernel version\n",
    "\n",
    "START_DATE = datetime(2023, 9, 1) # Start date of the trajectory\n",
    "END_DATE = datetime(2033, 9, 1) # End date of the trajectory\n",
    "INTERVAL_TIME = timedelta(hours=12) # Interval between trajectory points"
   ]
  },
  {
   "cell_type": "markdown",
   "metadata": {},
   "source": [
    "### Helper functions"
   ]
  },
  {
   "cell_type": "code",
   "execution_count": 9,
   "metadata": {},
   "outputs": [],
   "source": [
    "def build_juice_tour(target):\n",
    "    \"\"\"Build a JUICE tour configuration for a specific target.\n",
    "    \"\"\"\n",
    "    return TourConfig(\n",
    "        spacecraft='JUICE',\n",
    "        instrument='RADEM_PSD',\n",
    "        target=target,\n",
    "        download_kernels=True,\n",
    "        kernels_dir=JUICE_KERNELS_DIR,\n",
    "        mk=JUICE_KERNELS_MK,\n",
    "        version=JUICE_KERNELS_VERSION,\n",
    "    )\n",
    "    \n",
    "def build_trajectory(tour: TourConfig, \n",
    "                     start_date: datetime = START_DATE, \n",
    "                     end_date: datetime = END_DATE, \n",
    "                     interval_time: timedelta = INTERVAL_TIME):\n",
    "    \"\"\"Build a trajectory for a given tour configuration.\n",
    "    \"\"\"\n",
    "    interval = f'{interval_time.total_seconds() / 3600} hours'\n",
    "    return tour[start_date: end_date: interval]"
   ]
  },
  {
   "cell_type": "markdown",
   "metadata": {},
   "source": [
    "### Calculations"
   ]
  },
  {
   "cell_type": "markdown",
   "metadata": {},
   "source": [
    "First we build the tour configurations for each target and calculate the trajectories."
   ]
  },
  {
   "cell_type": "code",
   "execution_count": 10,
   "metadata": {},
   "outputs": [],
   "source": [
    "sun_tour = build_juice_tour('SUN')\n",
    "earth_tour = build_juice_tour('EARTH')\n",
    "mars_tour = build_juice_tour('MARS')\n",
    "jupiter_tour = build_juice_tour('JUPITER')\n",
    "\n",
    "sun_traj = build_trajectory(sun_tour)\n",
    "earth_traj = build_trajectory(earth_tour)\n",
    "mars_traj = build_trajectory(mars_tour)\n",
    "jupiter_traj = build_trajectory(jupiter_tour)"
   ]
  },
  {
   "cell_type": "markdown",
   "metadata": {},
   "source": [
    "Now, we calculate the distances, right ascensions and declinations for each trajectory point."
   ]
  },
  {
   "cell_type": "code",
   "execution_count": 11,
   "metadata": {},
   "outputs": [],
   "source": [
    "sun_dist = km_to_au(sun_traj.dist)\n",
    "earth_dist = km_to_au(earth_traj.dist)\n",
    "mars_dist = km_to_au(mars_traj.dist)\n",
    "jupiter_dist = km_to_au(jupiter_traj.dist)\n",
    "\n",
    "sun_ra = sun_traj.ra\n",
    "earth_ra = earth_traj.ra\n",
    "mars_ra = mars_traj.ra\n",
    "jupiter_ra = jupiter_traj.ra\n",
    "\n",
    "sun_dec = sun_traj.dec\n",
    "earth_dec = earth_traj.dec\n",
    "mars_dec = mars_traj.dec\n",
    "jupiter_dec = jupiter_traj.dec"
   ]
  },
  {
   "cell_type": "markdown",
   "metadata": {},
   "source": [
    "It would be easier to work with the data if we put it in a pandas DataFrame."
   ]
  },
  {
   "cell_type": "code",
   "execution_count": null,
   "metadata": {},
   "outputs": [],
   "source": [
    "df_juice = pd.DataFrame({\n",
    "    'time': sun_traj.utc,\n",
    "    'sun_dist_au': sun_dist,\n",
    "    'earth_dist_au': earth_dist,\n",
    "    'mars_dist_au': mars_dist,\n",
    "    'jupiter_dist_au': jupiter_dist,\n",
    "    'sun_ra': sun_ra,\n",
    "    'earth_ra': earth_ra,\n",
    "    'mars_ra': mars_ra,\n",
    "    'jupiter_ra': jupiter_ra,\n",
    "    'sun_dec': sun_dec,\n",
    "    'earth_dec': earth_dec,\n",
    "    'mars_dec': mars_dec,\n",
    "    'jupiter_dec': jupiter_dec,\n",
    "})\n",
    "\n",
    "df_juice.head()"
   ]
  },
  {
   "cell_type": "markdown",
   "metadata": {},
   "source": [
    "### Plotting the results"
   ]
  },
  {
   "cell_type": "markdown",
   "metadata": {},
   "source": [
    "Let's plot the distances to all targets as a function of time."
   ]
  },
  {
   "cell_type": "code",
   "execution_count": null,
   "metadata": {},
   "outputs": [],
   "source": [
    "plt.figure(figsize=(12, 6))\n",
    "\n",
    "plt.plot(df_juice['time'], df_juice['sun_dist_au'], label='Sun')\n",
    "plt.plot(df_juice['time'], df_juice['earth_dist_au'], label='Earth')\n",
    "plt.plot(df_juice['time'], df_juice['mars_dist_au'], label='Mars')\n",
    "plt.plot(df_juice['time'], df_juice['jupiter_dist_au'], label='Jupiter')\n",
    "\n",
    "plt.grid(True)\n",
    "plt.xlabel('Time')\n",
    "plt.ylabel('Distance (AU)')\n",
    "plt.title('Distance to Solar System Bodies')\n",
    "plt.legend()\n",
    "\n",
    "# Rotate and align the tick labels so they look better\n",
    "plt.gcf().autofmt_xdate()\n",
    "\n",
    "# Use AutoDateLocator for smart date tick selection\n",
    "plt.gca().xaxis.set_major_locator(mdates.AutoDateLocator())\n",
    "plt.gca().xaxis.set_major_formatter(mdates.DateFormatter('%Y-%m-%d'))\n",
    "\n",
    "plt.tight_layout()\n",
    "plt.show()\n"
   ]
  },
  {
   "cell_type": "markdown",
   "metadata": {},
   "source": [
    "Let's plot the right ascensions and declinations for the Sun.\n"
   ]
  },
  {
   "cell_type": "code",
   "execution_count": null,
   "metadata": {},
   "outputs": [],
   "source": [
    "fig, (ax1, ax2) = plt.subplots(2, 1, figsize=(12, 8))\n",
    "\n",
    "# Plot Right Ascension\n",
    "ax1.plot(df_juice['time'], df_juice['sun_ra'], label='Sun')\n",
    "ax1.grid(True)\n",
    "ax1.set_ylabel('Right Ascension (degrees)')\n",
    "ax1.set_title('Right Ascension of Sun')\n",
    "ax1.legend()\n",
    "ax1.xaxis.set_major_locator(mdates.AutoDateLocator())\n",
    "ax1.xaxis.set_major_formatter(mdates.DateFormatter('%Y-%m-%d'))\n",
    "\n",
    "# Plot Declination\n",
    "ax2.plot(df_juice['time'], df_juice['sun_dec'], label='Sun')\n",
    "ax2.grid(True)\n",
    "ax2.set_xlabel('Time')\n",
    "ax2.set_ylabel('Declination (degrees)')\n",
    "ax2.set_title('Declination of Sun')\n",
    "ax2.legend()\n",
    "ax2.xaxis.set_major_locator(mdates.AutoDateLocator())\n",
    "ax2.xaxis.set_major_formatter(mdates.DateFormatter('%Y-%m-%d'))\n",
    "\n",
    "# Rotate date labels\n",
    "fig.autofmt_xdate()\n",
    "\n",
    "plt.tight_layout()\n",
    "plt.show()"
   ]
  },
  {
   "cell_type": "markdown",
   "metadata": {},
   "source": [
    "## INTEGRAL trajectory calculations\n",
    "\n",
    "In this section we will calculate the trajectory of the Integral spacecraft around the Sun and Earth.\n",
    "\n",
    "> ℹ️ The first execution of *Calculating* code cell will download the SPICE kernels to `INTEGRAL_KERNELS_DIR` directory if they are not present. This may take a while and is only done once.\n",
    "\n",
    "> ⚠️ There is an issue with the official SPICE kernels for INTEGRAL. Some of the data is missing which makes the trajectory calculations impossible for some time ranges As of 2024-12-10, calculating distances from the INTEGRAL is available for the following time ranges:\n",
    "> - from 2002 OCT 17 05:45:07.900 to 2022 OCT 16 17:16:57.759\n",
    "> - from 2022 OCT 19 09:07:11.840 to 2022 NOV 14 23:36:51.214\n",
    "> - from 2024 SEP 26 00:21:02.190 to 2024 OCT 06 15:42:55.360\n",
    "> \n",
    "> It relies on the `spk/integral_sc_ssm_20021017_20241006_v01.bsp` SPICE kernel.  The problem requires further investigation."
   ]
  },
  {
   "cell_type": "code",
   "execution_count": 15,
   "metadata": {},
   "outputs": [],
   "source": [
    "INTEGRAL_KERNELS_DIR = '../data/irem/spice' # Directory to download kernels to\n",
    "INTEGRAL_KERNELS_MK = 'ops' # Kernel set to use\n",
    "INTEGRAL_KERNELS_VERSION = 'v001' # Kernel version\n",
    "\n",
    "START_DATE = datetime(2013, 9, 1) # Start date of the trajectory\n",
    "END_DATE = datetime(2014, 9, 1) # End date of the trajectory\n",
    "INTERVAL_TIME = timedelta(hours=12) # Interval between trajectory points"
   ]
  },
  {
   "cell_type": "markdown",
   "metadata": {},
   "source": [
    "### Helper functions"
   ]
  },
  {
   "cell_type": "code",
   "execution_count": 16,
   "metadata": {},
   "outputs": [],
   "source": [
    "def build_irem_tour(target):\n",
    "    \"\"\"Build a INTEGRAL tour configuration for a specific target.\n",
    "    \"\"\"\n",
    "    return TourConfig(\n",
    "        spacecraft='INTEGRAL',\n",
    "        instrument='',\n",
    "        target=target,\n",
    "        download_kernels=True,\n",
    "        kernels_dir=INTEGRAL_KERNELS_DIR,\n",
    "        mk=INTEGRAL_KERNELS_MK,\n",
    "        version=INTEGRAL_KERNELS_VERSION,\n",
    "    )\n",
    "    \n",
    "def build_irem_trajectory(tour: TourConfig, \n",
    "                          start_date: datetime = START_DATE, \n",
    "                          end_date: datetime = END_DATE, \n",
    "                          interval_time: timedelta = INTERVAL_TIME):\n",
    "    \"\"\"Build a trajectory for a given tour configuration.\n",
    "    \"\"\"\n",
    "    interval = f'{interval_time.total_seconds() / 3600} hours'\n",
    "    return tour[start_date: end_date: interval]"
   ]
  },
  {
   "cell_type": "markdown",
   "metadata": {},
   "source": [
    "### Calculations"
   ]
  },
  {
   "cell_type": "code",
   "execution_count": 17,
   "metadata": {},
   "outputs": [],
   "source": [
    "sun_tour = build_irem_tour('SUN')\n",
    "earth_tour = build_irem_tour('EARTH')\n",
    "\n",
    "sun_traj = build_irem_trajectory(sun_tour)\n",
    "earth_traj = build_irem_trajectory(earth_tour)\n",
    "\n",
    "sun_dist = km_to_au(sun_traj.dist)\n",
    "earth_dist = km_to_au(earth_traj.dist)\n",
    "earth_dist_km = earth_traj.dist"
   ]
  },
  {
   "cell_type": "code",
   "execution_count": null,
   "metadata": {},
   "outputs": [],
   "source": [
    "df_integral = pd.DataFrame({\n",
    "    'time': sun_traj.utc,\n",
    "    'sun_dist_au': sun_dist,\n",
    "    'earth_dist_au': earth_dist,\n",
    "    'earth_dist_km': earth_dist_km,\n",
    "})\n",
    "\n",
    "df_integral.head()"
   ]
  },
  {
   "cell_type": "markdown",
   "metadata": {},
   "source": [
    "### Plotting the results"
   ]
  },
  {
   "cell_type": "code",
   "execution_count": null,
   "metadata": {},
   "outputs": [],
   "source": [
    "plt.figure(figsize=(12, 6))\n",
    "plt.plot(df_integral['time'], df_integral['sun_dist_au'], label='Sun Distance')\n",
    "plt.xlabel('Time')\n",
    "plt.ylabel('Distance (AU)')\n",
    "plt.title('Distance from Sun')\n",
    "plt.legend()\n",
    "plt.grid(True)\n",
    "\n",
    "plt.figure(figsize=(12, 6))\n",
    "plt.plot(df_integral['time'], df_integral['earth_dist_km'], label='Earth Distance')\n",
    "plt.xlabel('Time')\n",
    "plt.ylabel('Distance (km)')\n",
    "plt.title('Distance from Earth')\n",
    "plt.legend()\n",
    "plt.grid(True)"
   ]
  },
  {
   "cell_type": "markdown",
   "metadata": {},
   "source": [
    "## Saving to HDF5\n",
    "\n",
    "Save the processed results to HDF5 files for further analysis."
   ]
  },
  {
   "cell_type": "code",
   "execution_count": 20,
   "metadata": {},
   "outputs": [],
   "source": [
    "df_juice.to_hdf('../data/juice_trajectory.h5', \n",
    "                key='trajectory', \n",
    "                mode='w',\n",
    "                format='table')"
   ]
  },
  {
   "cell_type": "code",
   "execution_count": 21,
   "metadata": {},
   "outputs": [],
   "source": [
    "df_integral.to_hdf('../data/integral_trajectory.h5', \n",
    "                   key='trajectory', \n",
    "                   mode='w',\n",
    "                   format='table')"
   ]
  },
  {
   "cell_type": "markdown",
   "metadata": {},
   "source": [
    "## Saving to CSV\n",
    "\n",
    "Save the processed results to CSV files for further analysis."
   ]
  },
  {
   "cell_type": "code",
   "execution_count": 22,
   "metadata": {},
   "outputs": [],
   "source": [
    "df_juice.to_csv('../data/juice_trajectory.csv', index=False)"
   ]
  },
  {
   "cell_type": "code",
   "execution_count": 23,
   "metadata": {},
   "outputs": [],
   "source": [
    "df_integral.to_csv('../data/integral_trajectory.csv', index=False)"
   ]
  },
  {
   "cell_type": "markdown",
   "metadata": {},
   "source": [
    "## Reading from HDF5"
   ]
  },
  {
   "cell_type": "code",
   "execution_count": null,
   "metadata": {},
   "outputs": [],
   "source": [
    "df_juice = pd.read_hdf('../data/juice_trajectory.h5', key='trajectory')\n",
    "df_integral = pd.read_hdf('../data/integral_trajectory.h5', key='trajectory')\n",
    "\n",
    "df_integral.head()"
   ]
  },
  {
   "cell_type": "markdown",
   "metadata": {},
   "source": [
    "## Reading from CSV"
   ]
  },
  {
   "cell_type": "code",
   "execution_count": null,
   "metadata": {},
   "outputs": [],
   "source": [
    "df_juice = pd.read_csv('../data/juice_trajectory.csv')\n",
    "df_integral = pd.read_csv('../data/integral_trajectory.csv')\n",
    "\n",
    "df_integral.head()"
   ]
  }
 ],
 "metadata": {
  "kernelspec": {
   "display_name": "venv",
   "language": "python",
   "name": "python3"
  },
  "language_info": {
   "codemirror_mode": {
    "name": "ipython",
    "version": 3
   },
   "file_extension": ".py",
   "mimetype": "text/x-python",
   "name": "python",
   "nbconvert_exporter": "python",
   "pygments_lexer": "ipython3",
   "version": "3.13.0"
  }
 },
 "nbformat": 4,
 "nbformat_minor": 2
}
