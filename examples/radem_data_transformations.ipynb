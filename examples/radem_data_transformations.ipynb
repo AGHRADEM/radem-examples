{
 "cells": [
  {
   "cell_type": "markdown",
   "metadata": {},
   "source": [
    "# RADEM data transformations\n",
    "\n",
    "This notebook demonstrates how to transform IREM data into a formats suitable for further analysis (DataFrame, HDF5, CSV).\n"
   ]
  },
  {
   "cell_type": "markdown",
   "metadata": {},
   "source": [
    "## Prerequisites\n",
    "\n",
    "- RADEM raw data"
   ]
  },
  {
   "cell_type": "markdown",
   "metadata": {},
   "source": [
    "### Initializing the notebook\n",
    "\n",
    "Fill the variables below with the paths to your data."
   ]
  },
  {
   "cell_type": "code",
   "execution_count": 1,
   "metadata": {},
   "outputs": [],
   "source": [
    "import radem\n",
    "from datetime import date\n",
    "from pathlib import Path\n",
    "\n",
    "DATA_DIR = Path(\"../data/radem\")\n",
    "\n",
    "DATA_RAW_DIR = DATA_DIR / \"raw\"\n",
    "DATA_EXTRACTED_DIR = DATA_DIR / \"extracted\"\n",
    "DATA_HDF5_DIR = DATA_DIR / \"hdf5\"\n",
    "DATA_CSV_DIR = DATA_DIR / \"csv\"\n"
   ]
  },
  {
   "cell_type": "markdown",
   "metadata": {},
   "source": [
    "## Data transformations"
   ]
  },
  {
   "cell_type": "markdown",
   "metadata": {},
   "source": [
    "### Reading CDFs (option 1)"
   ]
  },
  {
   "cell_type": "code",
   "execution_count": 2,
   "metadata": {},
   "outputs": [
    {
     "name": "stdout",
     "output_type": "stream",
     "text": [
      "604\n",
      "580\n"
     ]
    }
   ],
   "source": [
    "sc_cdfs = radem.handlers.read_radem_science_cdfs(DATA_EXTRACTED_DIR)\n",
    "hk_cdfs = radem.handlers.read_radem_housekeeping_cdfs(DATA_EXTRACTED_DIR)\n",
    "\n",
    "print(len(sc_cdfs))\n",
    "print(len(hk_cdfs))"
   ]
  },
  {
   "cell_type": "markdown",
   "metadata": {},
   "source": [
    "### Reading CDFs (option 2)\n"
   ]
  },
  {
   "cell_type": "code",
   "execution_count": 3,
   "metadata": {},
   "outputs": [
    {
     "name": "stdout",
     "output_type": "stream",
     "text": [
      "78\n",
      "78\n"
     ]
    }
   ],
   "source": [
    "sc_paths = radem.handlers.get_radem_science_cdf_paths(\n",
    "    DATA_EXTRACTED_DIR,\n",
    "    from_date=date(2023, 12, 1),\n",
    "    to_date=date(2024, 1, 31))\n",
    "hk_paths = radem.handlers.get_radem_housekeeping_cdf_paths(\n",
    "    DATA_EXTRACTED_DIR,\n",
    "    from_date=date(2023, 12, 1),\n",
    "    to_date=date(2024, 1, 31))\n",
    "\n",
    "sc_cdfs = radem.handlers.read_radem_cdfs(sc_paths)\n",
    "hk_cdfs = radem.handlers.read_radem_cdfs(hk_paths)\n",
    "\n",
    "print(len(sc_cdfs))\n",
    "print(len(hk_cdfs))\n"
   ]
  },
  {
   "cell_type": "markdown",
   "metadata": {},
   "source": [
    "### Reading CDFs (option 3)"
   ]
  },
  {
   "cell_type": "code",
   "execution_count": 4,
   "metadata": {},
   "outputs": [
    {
     "name": "stdout",
     "output_type": "stream",
     "text": [
      "78\n",
      "78\n"
     ]
    }
   ],
   "source": [
    "sc_cdf = radem.handlers.read_radem_science_cdfs(\n",
    "    DATA_EXTRACTED_DIR,\n",
    "    from_date=date(2023, 12, 1),\n",
    "    to_date=date(2024, 1, 31))\n",
    "hk_cdf = radem.handlers.read_radem_housekeeping_cdfs(\n",
    "    DATA_EXTRACTED_DIR,\n",
    "    from_date=date(2023, 12, 1),\n",
    "    to_date=date(2024, 1, 31))\n",
    "\n",
    "print(len(sc_cdf))\n",
    "print(len(hk_cdf))\n"
   ]
  },
  {
   "cell_type": "markdown",
   "metadata": {},
   "source": [
    "### Fix and convert for further analysis\n",
    "\n",
    "> 💡 This step merges, removes duplicates, sorts, and converts the data to a pandas DataFrame which simplifies further analysis and eliminates low-level issues with CDF files.\n"
   ]
  },
  {
   "cell_type": "code",
   "execution_count": 5,
   "metadata": {},
   "outputs": [
    {
     "name": "stdout",
     "output_type": "stream",
     "text": [
      "                     protons_bin_1  protons_bin_2  protons_bin_3  \\\n",
      "time                                                               \n",
      "2023-12-01 00:00:29             14            190             19   \n",
      "2023-12-01 00:01:29             12            214             23   \n",
      "2023-12-01 00:02:29             15            198             18   \n",
      "2023-12-01 00:03:29             14            205             22   \n",
      "2023-12-01 00:04:29             12            159             18   \n",
      "...                            ...            ...            ...   \n",
      "2024-01-30 23:55:32             58            252             25   \n",
      "2024-01-30 23:56:32             65            232             20   \n",
      "2024-01-30 23:57:32             54            206             26   \n",
      "2024-01-30 23:58:32             49            237             27   \n",
      "2024-01-30 23:59:32             48            241             32   \n",
      "\n",
      "                     protons_bin_4  protons_bin_5  protons_bin_6  \\\n",
      "time                                                               \n",
      "2023-12-01 00:00:29             15             17             28   \n",
      "2023-12-01 00:01:29             21             17             36   \n",
      "2023-12-01 00:02:29             16             16             29   \n",
      "2023-12-01 00:03:29             21             27             35   \n",
      "2023-12-01 00:04:29             17             17             32   \n",
      "...                            ...            ...            ...   \n",
      "2024-01-30 23:55:32             19             17             34   \n",
      "2024-01-30 23:56:32             22             19             34   \n",
      "2024-01-30 23:57:32             13             17             39   \n",
      "2024-01-30 23:58:32             11             36             38   \n",
      "2024-01-30 23:59:32             22             29             39   \n",
      "\n",
      "                     protons_bin_7  protons_bin_8  proton_bin_others  \\\n",
      "time                                                                   \n",
      "2023-12-01 00:00:29             34             24                  0   \n",
      "2023-12-01 00:01:29             21             16                  0   \n",
      "2023-12-01 00:02:29             19             16                  0   \n",
      "2023-12-01 00:03:29             22             23                  0   \n",
      "2023-12-01 00:04:29             23             23                  0   \n",
      "...                            ...            ...                ...   \n",
      "2024-01-30 23:55:32             24             21                  0   \n",
      "2024-01-30 23:56:32             25             31                  0   \n",
      "2024-01-30 23:57:32             32             28                  0   \n",
      "2024-01-30 23:58:32             26             20                  0   \n",
      "2024-01-30 23:59:32             21             26                  0   \n",
      "\n",
      "                     electrons_bin_1  ...  hi_ion_bin_2  hi_ion_bin_3  \\\n",
      "time                                  ...                               \n",
      "2023-12-01 00:00:29                1  ...             1             0   \n",
      "2023-12-01 00:01:29                3  ...             0             0   \n",
      "2023-12-01 00:02:29                3  ...             1             0   \n",
      "2023-12-01 00:03:29                6  ...             1             0   \n",
      "2023-12-01 00:04:29               11  ...             2             0   \n",
      "...                              ...  ...           ...           ...   \n",
      "2024-01-30 23:55:32                4  ...             0             0   \n",
      "2024-01-30 23:56:32               10  ...             2             0   \n",
      "2024-01-30 23:57:32                3  ...             0             0   \n",
      "2024-01-30 23:58:32                8  ...             2             0   \n",
      "2024-01-30 23:59:32                9  ...             0             0   \n",
      "\n",
      "                     hi_ion_bin_4  hi_ion_bin_5  hi_ion_bin_6  hi_ion_bin_7  \\\n",
      "time                                                                          \n",
      "2023-12-01 00:00:29             0             0             0             0   \n",
      "2023-12-01 00:01:29             0             0             0             0   \n",
      "2023-12-01 00:02:29             0             0             0             0   \n",
      "2023-12-01 00:03:29             0             0             0             0   \n",
      "2023-12-01 00:04:29             0             0             0             0   \n",
      "...                           ...           ...           ...           ...   \n",
      "2024-01-30 23:55:32             0             0             0             0   \n",
      "2024-01-30 23:56:32             0             0             0             0   \n",
      "2024-01-30 23:57:32             0             0             0             0   \n",
      "2024-01-30 23:58:32             0             0             0             0   \n",
      "2024-01-30 23:59:32             0             0             0             0   \n",
      "\n",
      "                     hi_ion_bin_others  flux_protons  flux_electrons  \\\n",
      "time                                                                   \n",
      "2023-12-01 00:00:29                  0             5              23   \n",
      "2023-12-01 00:01:29                  0             6              25   \n",
      "2023-12-01 00:02:29                  0             5              24   \n",
      "2023-12-01 00:03:29                  0             6              25   \n",
      "2023-12-01 00:04:29                  0             5              24   \n",
      "...                                ...           ...             ...   \n",
      "2024-01-30 23:55:32                  0             7              30   \n",
      "2024-01-30 23:56:32                  0             7              31   \n",
      "2024-01-30 23:57:32                  0             6              30   \n",
      "2024-01-30 23:58:32                  0             7              29   \n",
      "2024-01-30 23:59:32                  0             7              30   \n",
      "\n",
      "                     flux_directional  \n",
      "time                                   \n",
      "2023-12-01 00:00:29                 0  \n",
      "2023-12-01 00:01:29                 0  \n",
      "2023-12-01 00:02:29                 0  \n",
      "2023-12-01 00:03:29                 0  \n",
      "2023-12-01 00:04:29                 0  \n",
      "...                               ...  \n",
      "2024-01-30 23:55:32                 0  \n",
      "2024-01-30 23:56:32                 0  \n",
      "2024-01-30 23:57:32                 0  \n",
      "2024-01-30 23:58:32                 0  \n",
      "2024-01-30 23:59:32                 0  \n",
      "\n",
      "[103159 rows x 60 columns]\n"
     ]
    }
   ],
   "source": [
    "sc_df = radem.handlers.convert_radem_science_cdfs_to_df(sc_cdfs)\n",
    "\n",
    "print(sc_df)"
   ]
  },
  {
   "cell_type": "markdown",
   "metadata": {},
   "source": [
    "### Writing to HDF5"
   ]
  },
  {
   "cell_type": "code",
   "execution_count": 6,
   "metadata": {},
   "outputs": [],
   "source": [
    "radem.handlers.write_hdf(sc_df, DATA_HDF5_DIR / \"example.h5\")"
   ]
  },
  {
   "cell_type": "markdown",
   "metadata": {},
   "source": [
    "### Reading from HDF5"
   ]
  },
  {
   "cell_type": "code",
   "execution_count": 7,
   "metadata": {},
   "outputs": [
    {
     "name": "stdout",
     "output_type": "stream",
     "text": [
      "True\n"
     ]
    }
   ],
   "source": [
    "sc_df_hdf = radem.handlers.read_hdf(DATA_HDF5_DIR / \"example.h5\")\n",
    "\n",
    "print(all(sc_df_hdf == sc_df))"
   ]
  },
  {
   "cell_type": "markdown",
   "metadata": {},
   "source": [
    "### Writing to CSV (not recommended)\n",
    "\n",
    "> ⚠️ CSV files are not efficient for storing large datasets, use HDF5 format.\n",
    "\n",
    "> ⚠️ Tiny floating point errors may occur when writing / reading to CSV e.g. `1.4143094841930115` vs `1.4143094841930117`. If it matters to you, use HDF5 format."
   ]
  },
  {
   "cell_type": "code",
   "execution_count": 8,
   "metadata": {},
   "outputs": [],
   "source": [
    "radem.handlers.write_csv(sc_df, DATA_CSV_DIR / \"example.csv\")"
   ]
  },
  {
   "cell_type": "markdown",
   "metadata": {},
   "source": [
    "### Reading from CSV"
   ]
  },
  {
   "cell_type": "code",
   "execution_count": 9,
   "metadata": {},
   "outputs": [],
   "source": [
    "sc_df_csv = radem.handlers.read_csv(DATA_CSV_DIR / \"example.csv\")"
   ]
  }
 ],
 "metadata": {
  "kernelspec": {
   "display_name": "venv",
   "language": "python",
   "name": "python3"
  },
  "language_info": {
   "codemirror_mode": {
    "name": "ipython",
    "version": 3
   },
   "file_extension": ".py",
   "mimetype": "text/x-python",
   "name": "python",
   "nbconvert_exporter": "python",
   "pygments_lexer": "ipython3",
   "version": "3.13.0"
  }
 },
 "nbformat": 4,
 "nbformat_minor": 2
}
